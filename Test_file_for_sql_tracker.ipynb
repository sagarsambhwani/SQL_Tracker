{
  "nbformat": 4,
  "nbformat_minor": 0,
  "metadata": {
    "colab": {
      "provenance": []
    },
    "kernelspec": {
      "name": "python3",
      "display_name": "Python 3"
    },
    "language_info": {
      "name": "python"
    }
  },
  "cells": [
    {
      "cell_type": "code",
      "source": [
        "!pip install SQL-Tracker\n"
      ],
      "metadata": {
        "id": "PMs2lnCLxsvl",
        "colab": {
          "base_uri": "https://localhost:8080/"
        },
        "outputId": "e112a71e-5738-4420-e35a-65a9a9b9cdb8"
      },
      "execution_count": 1,
      "outputs": [
        {
          "output_type": "stream",
          "name": "stdout",
          "text": [
            "Collecting SQL-Tracker\n",
            "  Downloading SQL_Tracker-0.1.0-py3-none-any.whl.metadata (918 bytes)\n",
            "Requirement already satisfied: sqlparse>=0.4.4 in /usr/local/lib/python3.10/dist-packages (from SQL-Tracker) (0.5.1)\n",
            "Requirement already satisfied: prettytable>=3.6.0 in /usr/local/lib/python3.10/dist-packages (from SQL-Tracker) (3.11.0)\n",
            "Requirement already satisfied: wcwidth in /usr/local/lib/python3.10/dist-packages (from prettytable>=3.6.0->SQL-Tracker) (0.2.13)\n",
            "Downloading SQL_Tracker-0.1.0-py3-none-any.whl (3.7 kB)\n",
            "Installing collected packages: SQL-Tracker\n",
            "Successfully installed SQL-Tracker-0.1.0\n"
          ]
        }
      ]
    },
    {
      "cell_type": "code",
      "source": [
        "from SQL_Tracker import RealTimeDataLineageTracker, dynamic_query_execution"
      ],
      "metadata": {
        "colab": {
          "base_uri": "https://localhost:8080/"
        },
        "id": "wHgWZNurrLAH",
        "outputId": "33e60635-bb9a-4ba0-8f33-2464f02153c8"
      },
      "execution_count": 2,
      "outputs": [
        {
          "output_type": "stream",
          "name": "stdout",
          "text": [
            "Enter your SQL queries below (type 'exit' to quit):\n",
            "\n",
            "SQL Query: Select * from users;\n",
            "\n",
            "Intercepted Query:\n",
            "SELECT *\n",
            "FROM users;\n",
            "Lineage Updated: users; → users;\n",
            "\n",
            "Source Table: users;\n",
            "+--------+\n",
            "|   *    |\n",
            "+--------+\n",
            "| *_val1 |\n",
            "| *_val2 |\n",
            "| *_val3 |\n",
            "+--------+\n",
            "\n",
            "Target Table: users; (After Transformation)\n",
            "+--------+\n",
            "|   *    |\n",
            "+--------+\n",
            "| *_val1 |\n",
            "| *_val2 |\n",
            "| *_val3 |\n",
            "+--------+\n",
            "\n",
            "--- Real-Time Lineage ---\n",
            "Table: users;\n",
            "  Type: transformation\n",
            "  Source: users;\n",
            "  Query: SELECT *\n",
            "FROM users;\n",
            "  Next Transformations: ['users;']\n",
            "\n",
            "SQL Query: exit\n",
            "Exiting program...\n"
          ]
        }
      ]
    },
    {
      "cell_type": "code",
      "source": [],
      "metadata": {
        "id": "Fqoxsj5fr0ST"
      },
      "execution_count": null,
      "outputs": []
    }
  ]
}